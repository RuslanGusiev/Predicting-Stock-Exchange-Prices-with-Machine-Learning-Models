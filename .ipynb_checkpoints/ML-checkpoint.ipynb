{
 "cells": [
  {
   "cell_type": "code",
   "execution_count": null,
   "metadata": {},
   "outputs": [],
   "source": [
    "# Testing different time series Machine Learnig models \n",
    "# Analising how all models work for one Stock (APPLE)"
   ]
  },
  {
   "cell_type": "code",
   "execution_count": 2,
   "metadata": {},
   "outputs": [
    {
     "data": {
      "text/html": [
       "<div>\n",
       "<style scoped>\n",
       "    .dataframe tbody tr th:only-of-type {\n",
       "        vertical-align: middle;\n",
       "    }\n",
       "\n",
       "    .dataframe tbody tr th {\n",
       "        vertical-align: top;\n",
       "    }\n",
       "\n",
       "    .dataframe thead th {\n",
       "        text-align: right;\n",
       "    }\n",
       "</style>\n",
       "<table border=\"1\" class=\"dataframe\">\n",
       "  <thead>\n",
       "    <tr style=\"text-align: right;\">\n",
       "      <th></th>\n",
       "      <th>date</th>\n",
       "      <th>open</th>\n",
       "      <th>high</th>\n",
       "      <th>low</th>\n",
       "      <th>close</th>\n",
       "      <th>volume</th>\n",
       "      <th>Name</th>\n",
       "    </tr>\n",
       "  </thead>\n",
       "  <tbody>\n",
       "    <tr>\n",
       "      <th>0</th>\n",
       "      <td>2013-02-08</td>\n",
       "      <td>15.07</td>\n",
       "      <td>15.12</td>\n",
       "      <td>14.63</td>\n",
       "      <td>14.75</td>\n",
       "      <td>8407500</td>\n",
       "      <td>AAL</td>\n",
       "    </tr>\n",
       "    <tr>\n",
       "      <th>1</th>\n",
       "      <td>2013-02-11</td>\n",
       "      <td>14.89</td>\n",
       "      <td>15.01</td>\n",
       "      <td>14.26</td>\n",
       "      <td>14.46</td>\n",
       "      <td>8882000</td>\n",
       "      <td>AAL</td>\n",
       "    </tr>\n",
       "    <tr>\n",
       "      <th>2</th>\n",
       "      <td>2013-02-12</td>\n",
       "      <td>14.45</td>\n",
       "      <td>14.51</td>\n",
       "      <td>14.10</td>\n",
       "      <td>14.27</td>\n",
       "      <td>8126000</td>\n",
       "      <td>AAL</td>\n",
       "    </tr>\n",
       "  </tbody>\n",
       "</table>\n",
       "</div>"
      ],
      "text/plain": [
       "         date   open   high    low  close   volume Name\n",
       "0  2013-02-08  15.07  15.12  14.63  14.75  8407500  AAL\n",
       "1  2013-02-11  14.89  15.01  14.26  14.46  8882000  AAL\n",
       "2  2013-02-12  14.45  14.51  14.10  14.27  8126000  AAL"
      ]
     },
     "execution_count": 2,
     "metadata": {},
     "output_type": "execute_result"
    }
   ],
   "source": [
    "import pandas as pd\n",
    "import numpy as np\n",
    "from mpl_finance import candlestick_ohlc\n",
    "import matplotlib.pyplot as plt\n",
    "import matplotlib.dates as mdates\n",
    "\n",
    "data = pd.read_csv('./all_stocks_5yr.csv')\n",
    "data.head(3)"
   ]
  },
  {
   "cell_type": "code",
   "execution_count": 3,
   "metadata": {},
   "outputs": [
    {
     "data": {
      "text/html": [
       "<div>\n",
       "<style scoped>\n",
       "    .dataframe tbody tr th:only-of-type {\n",
       "        vertical-align: middle;\n",
       "    }\n",
       "\n",
       "    .dataframe tbody tr th {\n",
       "        vertical-align: top;\n",
       "    }\n",
       "\n",
       "    .dataframe thead th {\n",
       "        text-align: right;\n",
       "    }\n",
       "</style>\n",
       "<table border=\"1\" class=\"dataframe\">\n",
       "  <thead>\n",
       "    <tr style=\"text-align: right;\">\n",
       "      <th></th>\n",
       "      <th>date</th>\n",
       "      <th>open</th>\n",
       "      <th>high</th>\n",
       "      <th>low</th>\n",
       "      <th>close</th>\n",
       "      <th>volume</th>\n",
       "      <th>Name</th>\n",
       "    </tr>\n",
       "  </thead>\n",
       "  <tbody>\n",
       "    <tr>\n",
       "      <th>82949</th>\n",
       "      <td>2017-07-26</td>\n",
       "      <td>NaN</td>\n",
       "      <td>NaN</td>\n",
       "      <td>NaN</td>\n",
       "      <td>69.0842</td>\n",
       "      <td>3</td>\n",
       "      <td>BHF</td>\n",
       "    </tr>\n",
       "    <tr>\n",
       "      <th>165734</th>\n",
       "      <td>2015-07-17</td>\n",
       "      <td>NaN</td>\n",
       "      <td>88.76</td>\n",
       "      <td>88.24</td>\n",
       "      <td>88.7200</td>\n",
       "      <td>2056819</td>\n",
       "      <td>DHR</td>\n",
       "    </tr>\n",
       "    <tr>\n",
       "      <th>165857</th>\n",
       "      <td>2016-01-12</td>\n",
       "      <td>NaN</td>\n",
       "      <td>NaN</td>\n",
       "      <td>NaN</td>\n",
       "      <td>88.5500</td>\n",
       "      <td>0</td>\n",
       "      <td>DHR</td>\n",
       "    </tr>\n",
       "    <tr>\n",
       "      <th>205076</th>\n",
       "      <td>2015-07-17</td>\n",
       "      <td>NaN</td>\n",
       "      <td>48.49</td>\n",
       "      <td>47.85</td>\n",
       "      <td>47.9200</td>\n",
       "      <td>1246786</td>\n",
       "      <td>ES</td>\n",
       "    </tr>\n",
       "    <tr>\n",
       "      <th>239832</th>\n",
       "      <td>2016-07-01</td>\n",
       "      <td>NaN</td>\n",
       "      <td>NaN</td>\n",
       "      <td>NaN</td>\n",
       "      <td>49.5400</td>\n",
       "      <td>0</td>\n",
       "      <td>FTV</td>\n",
       "    </tr>\n",
       "    <tr>\n",
       "      <th>434379</th>\n",
       "      <td>2015-07-17</td>\n",
       "      <td>NaN</td>\n",
       "      <td>47.31</td>\n",
       "      <td>46.83</td>\n",
       "      <td>46.9900</td>\n",
       "      <td>1229513</td>\n",
       "      <td>O</td>\n",
       "    </tr>\n",
       "    <tr>\n",
       "      <th>434502</th>\n",
       "      <td>2016-01-12</td>\n",
       "      <td>NaN</td>\n",
       "      <td>NaN</td>\n",
       "      <td>NaN</td>\n",
       "      <td>52.4300</td>\n",
       "      <td>0</td>\n",
       "      <td>O</td>\n",
       "    </tr>\n",
       "    <tr>\n",
       "      <th>478594</th>\n",
       "      <td>2015-06-09</td>\n",
       "      <td>NaN</td>\n",
       "      <td>NaN</td>\n",
       "      <td>NaN</td>\n",
       "      <td>526.0900</td>\n",
       "      <td>12135</td>\n",
       "      <td>REGN</td>\n",
       "    </tr>\n",
       "    <tr>\n",
       "      <th>558213</th>\n",
       "      <td>2016-04-07</td>\n",
       "      <td>NaN</td>\n",
       "      <td>NaN</td>\n",
       "      <td>NaN</td>\n",
       "      <td>41.5600</td>\n",
       "      <td>0</td>\n",
       "      <td>UA</td>\n",
       "    </tr>\n",
       "    <tr>\n",
       "      <th>581906</th>\n",
       "      <td>2015-05-12</td>\n",
       "      <td>NaN</td>\n",
       "      <td>NaN</td>\n",
       "      <td>NaN</td>\n",
       "      <td>124.0800</td>\n",
       "      <td>569747</td>\n",
       "      <td>VRTX</td>\n",
       "    </tr>\n",
       "    <tr>\n",
       "      <th>598236</th>\n",
       "      <td>2015-06-26</td>\n",
       "      <td>NaN</td>\n",
       "      <td>NaN</td>\n",
       "      <td>NaN</td>\n",
       "      <td>61.9000</td>\n",
       "      <td>100</td>\n",
       "      <td>WRK</td>\n",
       "    </tr>\n",
       "  </tbody>\n",
       "</table>\n",
       "</div>"
      ],
      "text/plain": [
       "              date  open   high    low     close   volume  Name\n",
       "82949   2017-07-26   NaN    NaN    NaN   69.0842        3   BHF\n",
       "165734  2015-07-17   NaN  88.76  88.24   88.7200  2056819   DHR\n",
       "165857  2016-01-12   NaN    NaN    NaN   88.5500        0   DHR\n",
       "205076  2015-07-17   NaN  48.49  47.85   47.9200  1246786    ES\n",
       "239832  2016-07-01   NaN    NaN    NaN   49.5400        0   FTV\n",
       "434379  2015-07-17   NaN  47.31  46.83   46.9900  1229513     O\n",
       "434502  2016-01-12   NaN    NaN    NaN   52.4300        0     O\n",
       "478594  2015-06-09   NaN    NaN    NaN  526.0900    12135  REGN\n",
       "558213  2016-04-07   NaN    NaN    NaN   41.5600        0    UA\n",
       "581906  2015-05-12   NaN    NaN    NaN  124.0800   569747  VRTX\n",
       "598236  2015-06-26   NaN    NaN    NaN   61.9000      100   WRK"
      ]
     },
     "execution_count": 3,
     "metadata": {},
     "output_type": "execute_result"
    }
   ],
   "source": [
    "missing_values = []\n",
    "missing_values = data[data.isnull().any(axis=1) == True]\n",
    "missing_values"
   ]
  },
  {
   "cell_type": "code",
   "execution_count": 4,
   "metadata": {},
   "outputs": [],
   "source": [
    "data.dropna(inplace=True)"
   ]
  },
  {
   "cell_type": "code",
   "execution_count": 5,
   "metadata": {},
   "outputs": [
    {
     "data": {
      "text/html": [
       "<div>\n",
       "<style scoped>\n",
       "    .dataframe tbody tr th:only-of-type {\n",
       "        vertical-align: middle;\n",
       "    }\n",
       "\n",
       "    .dataframe tbody tr th {\n",
       "        vertical-align: top;\n",
       "    }\n",
       "\n",
       "    .dataframe thead th {\n",
       "        text-align: right;\n",
       "    }\n",
       "</style>\n",
       "<table border=\"1\" class=\"dataframe\">\n",
       "  <thead>\n",
       "    <tr style=\"text-align: right;\">\n",
       "      <th></th>\n",
       "      <th>date</th>\n",
       "      <th>open</th>\n",
       "      <th>high</th>\n",
       "      <th>low</th>\n",
       "      <th>close</th>\n",
       "      <th>volume</th>\n",
       "      <th>Name</th>\n",
       "    </tr>\n",
       "  </thead>\n",
       "  <tbody>\n",
       "  </tbody>\n",
       "</table>\n",
       "</div>"
      ],
      "text/plain": [
       "Empty DataFrame\n",
       "Columns: [date, open, high, low, close, volume, Name]\n",
       "Index: []"
      ]
     },
     "execution_count": 5,
     "metadata": {},
     "output_type": "execute_result"
    }
   ],
   "source": [
    "missing_values = []\n",
    "missing_values = data[data.isnull().any(axis=1) == True]\n",
    "missing_values"
   ]
  },
  {
   "cell_type": "code",
   "execution_count": 6,
   "metadata": {},
   "outputs": [
    {
     "data": {
      "text/html": [
       "<div>\n",
       "<style scoped>\n",
       "    .dataframe tbody tr th:only-of-type {\n",
       "        vertical-align: middle;\n",
       "    }\n",
       "\n",
       "    .dataframe tbody tr th {\n",
       "        vertical-align: top;\n",
       "    }\n",
       "\n",
       "    .dataframe thead th {\n",
       "        text-align: right;\n",
       "    }\n",
       "</style>\n",
       "<table border=\"1\" class=\"dataframe\">\n",
       "  <thead>\n",
       "    <tr style=\"text-align: right;\">\n",
       "      <th></th>\n",
       "      <th>date</th>\n",
       "      <th>open</th>\n",
       "      <th>high</th>\n",
       "      <th>low</th>\n",
       "      <th>close</th>\n",
       "      <th>volume</th>\n",
       "      <th>Name</th>\n",
       "    </tr>\n",
       "  </thead>\n",
       "  <tbody>\n",
       "    <tr>\n",
       "      <th>1259</th>\n",
       "      <td>2013-02-08</td>\n",
       "      <td>67.7142</td>\n",
       "      <td>68.4014</td>\n",
       "      <td>66.8928</td>\n",
       "      <td>67.8542</td>\n",
       "      <td>158168416</td>\n",
       "      <td>AAPL</td>\n",
       "    </tr>\n",
       "    <tr>\n",
       "      <th>1260</th>\n",
       "      <td>2013-02-11</td>\n",
       "      <td>68.0714</td>\n",
       "      <td>69.2771</td>\n",
       "      <td>67.6071</td>\n",
       "      <td>68.5614</td>\n",
       "      <td>129029425</td>\n",
       "      <td>AAPL</td>\n",
       "    </tr>\n",
       "    <tr>\n",
       "      <th>1261</th>\n",
       "      <td>2013-02-12</td>\n",
       "      <td>68.5014</td>\n",
       "      <td>68.9114</td>\n",
       "      <td>66.8205</td>\n",
       "      <td>66.8428</td>\n",
       "      <td>151829363</td>\n",
       "      <td>AAPL</td>\n",
       "    </tr>\n",
       "  </tbody>\n",
       "</table>\n",
       "</div>"
      ],
      "text/plain": [
       "            date     open     high      low    close     volume  Name\n",
       "1259  2013-02-08  67.7142  68.4014  66.8928  67.8542  158168416  AAPL\n",
       "1260  2013-02-11  68.0714  69.2771  67.6071  68.5614  129029425  AAPL\n",
       "1261  2013-02-12  68.5014  68.9114  66.8205  66.8428  151829363  AAPL"
      ]
     },
     "execution_count": 6,
     "metadata": {},
     "output_type": "execute_result"
    }
   ],
   "source": [
    "data_AAPL = data[data.Name == 'AAPL']\n",
    "data_AAPL.head(3)"
   ]
  },
  {
   "cell_type": "code",
   "execution_count": 7,
   "metadata": {},
   "outputs": [
    {
     "data": {
      "text/html": [
       "<div>\n",
       "<style scoped>\n",
       "    .dataframe tbody tr th:only-of-type {\n",
       "        vertical-align: middle;\n",
       "    }\n",
       "\n",
       "    .dataframe tbody tr th {\n",
       "        vertical-align: top;\n",
       "    }\n",
       "\n",
       "    .dataframe thead th {\n",
       "        text-align: right;\n",
       "    }\n",
       "</style>\n",
       "<table border=\"1\" class=\"dataframe\">\n",
       "  <thead>\n",
       "    <tr style=\"text-align: right;\">\n",
       "      <th></th>\n",
       "      <th>date</th>\n",
       "      <th>close</th>\n",
       "    </tr>\n",
       "  </thead>\n",
       "  <tbody>\n",
       "    <tr>\n",
       "      <th>1259</th>\n",
       "      <td>2013-02-08</td>\n",
       "      <td>67.8542</td>\n",
       "    </tr>\n",
       "    <tr>\n",
       "      <th>1260</th>\n",
       "      <td>2013-02-11</td>\n",
       "      <td>68.5614</td>\n",
       "    </tr>\n",
       "    <tr>\n",
       "      <th>1261</th>\n",
       "      <td>2013-02-12</td>\n",
       "      <td>66.8428</td>\n",
       "    </tr>\n",
       "  </tbody>\n",
       "</table>\n",
       "</div>"
      ],
      "text/plain": [
       "            date    close\n",
       "1259  2013-02-08  67.8542\n",
       "1260  2013-02-11  68.5614\n",
       "1261  2013-02-12  66.8428"
      ]
     },
     "execution_count": 7,
     "metadata": {},
     "output_type": "execute_result"
    }
   ],
   "source": [
    "asd = data_AAPL[['date', 'close']]\n",
    "asd.head(3)"
   ]
  },
  {
   "cell_type": "code",
   "execution_count": 8,
   "metadata": {},
   "outputs": [],
   "source": [
    "#AAPL[AAPL.index == 1484]"
   ]
  },
  {
   "cell_type": "code",
   "execution_count": 9,
   "metadata": {},
   "outputs": [],
   "source": [
    "#asd = AAPL[AAPL.index <= 1484]\n",
    "#asd.head(3)\n",
    "#asd.dtypes"
   ]
  },
  {
   "cell_type": "code",
   "execution_count": 10,
   "metadata": {},
   "outputs": [],
   "source": [
    "#asd[225:]"
   ]
  },
  {
   "cell_type": "code",
   "execution_count": 11,
   "metadata": {},
   "outputs": [
    {
     "name": "stderr",
     "output_type": "stream",
     "text": [
      "C:\\ProgramData\\Anaconda3\\lib\\site-packages\\ipykernel_launcher.py:1: SettingWithCopyWarning: \n",
      "A value is trying to be set on a copy of a slice from a DataFrame.\n",
      "Try using .loc[row_indexer,col_indexer] = value instead\n",
      "\n",
      "See the caveats in the documentation: http://pandas.pydata.org/pandas-docs/stable/indexing.html#indexing-view-versus-copy\n",
      "  \"\"\"Entry point for launching an IPython kernel.\n"
     ]
    },
    {
     "data": {
      "text/html": [
       "<div>\n",
       "<style scoped>\n",
       "    .dataframe tbody tr th:only-of-type {\n",
       "        vertical-align: middle;\n",
       "    }\n",
       "\n",
       "    .dataframe tbody tr th {\n",
       "        vertical-align: top;\n",
       "    }\n",
       "\n",
       "    .dataframe thead th {\n",
       "        text-align: right;\n",
       "    }\n",
       "</style>\n",
       "<table border=\"1\" class=\"dataframe\">\n",
       "  <thead>\n",
       "    <tr style=\"text-align: right;\">\n",
       "      <th></th>\n",
       "      <th>date</th>\n",
       "      <th>close</th>\n",
       "      <th>new_date</th>\n",
       "    </tr>\n",
       "  </thead>\n",
       "  <tbody>\n",
       "    <tr>\n",
       "      <th>1259</th>\n",
       "      <td>2013-02-08</td>\n",
       "      <td>67.8542</td>\n",
       "      <td>2013-02-08</td>\n",
       "    </tr>\n",
       "    <tr>\n",
       "      <th>1260</th>\n",
       "      <td>2013-02-11</td>\n",
       "      <td>68.5614</td>\n",
       "      <td>2013-02-11</td>\n",
       "    </tr>\n",
       "    <tr>\n",
       "      <th>1261</th>\n",
       "      <td>2013-02-12</td>\n",
       "      <td>66.8428</td>\n",
       "      <td>2013-02-12</td>\n",
       "    </tr>\n",
       "  </tbody>\n",
       "</table>\n",
       "</div>"
      ],
      "text/plain": [
       "            date    close   new_date\n",
       "1259  2013-02-08  67.8542 2013-02-08\n",
       "1260  2013-02-11  68.5614 2013-02-11\n",
       "1261  2013-02-12  66.8428 2013-02-12"
      ]
     },
     "execution_count": 11,
     "metadata": {},
     "output_type": "execute_result"
    }
   ],
   "source": [
    "asd['new_date'] = pd.to_datetime(asd['date'])\n",
    "asd.head(3)"
   ]
  },
  {
   "cell_type": "code",
   "execution_count": 12,
   "metadata": {},
   "outputs": [],
   "source": [
    "asd = asd.drop(['date'], axis=1)"
   ]
  },
  {
   "cell_type": "code",
   "execution_count": 13,
   "metadata": {},
   "outputs": [
    {
     "data": {
      "text/html": [
       "<div>\n",
       "<style scoped>\n",
       "    .dataframe tbody tr th:only-of-type {\n",
       "        vertical-align: middle;\n",
       "    }\n",
       "\n",
       "    .dataframe tbody tr th {\n",
       "        vertical-align: top;\n",
       "    }\n",
       "\n",
       "    .dataframe thead th {\n",
       "        text-align: right;\n",
       "    }\n",
       "</style>\n",
       "<table border=\"1\" class=\"dataframe\">\n",
       "  <thead>\n",
       "    <tr style=\"text-align: right;\">\n",
       "      <th></th>\n",
       "      <th>close</th>\n",
       "      <th>new_date</th>\n",
       "    </tr>\n",
       "  </thead>\n",
       "  <tbody>\n",
       "    <tr>\n",
       "      <th>1259</th>\n",
       "      <td>67.8542</td>\n",
       "      <td>2013-02-08</td>\n",
       "    </tr>\n",
       "    <tr>\n",
       "      <th>1260</th>\n",
       "      <td>68.5614</td>\n",
       "      <td>2013-02-11</td>\n",
       "    </tr>\n",
       "    <tr>\n",
       "      <th>1261</th>\n",
       "      <td>66.8428</td>\n",
       "      <td>2013-02-12</td>\n",
       "    </tr>\n",
       "  </tbody>\n",
       "</table>\n",
       "</div>"
      ],
      "text/plain": [
       "        close   new_date\n",
       "1259  67.8542 2013-02-08\n",
       "1260  68.5614 2013-02-11\n",
       "1261  66.8428 2013-02-12"
      ]
     },
     "execution_count": 13,
     "metadata": {},
     "output_type": "execute_result"
    }
   ],
   "source": [
    "asd.head(3)"
   ]
  },
  {
   "cell_type": "code",
   "execution_count": 14,
   "metadata": {},
   "outputs": [],
   "source": [
    "#asd['100ma'] = asd['close'].rolling(window=100, min_periods=0).mean()"
   ]
  },
  {
   "cell_type": "code",
   "execution_count": 15,
   "metadata": {},
   "outputs": [],
   "source": [
    "#asd.tail()"
   ]
  },
  {
   "cell_type": "code",
   "execution_count": 16,
   "metadata": {},
   "outputs": [
    {
     "name": "stderr",
     "output_type": "stream",
     "text": [
      "C:\\ProgramData\\Anaconda3\\lib\\site-packages\\statsmodels\\tsa\\base\\tsa_model.py:215: ValueWarning: An unsupported index was provided and will be ignored when e.g. forecasting.\n",
      "  ' ignored when e.g. forecasting.', ValueWarning)\n",
      "C:\\ProgramData\\Anaconda3\\lib\\site-packages\\statsmodels\\tsa\\base\\tsa_model.py:215: ValueWarning: An unsupported index was provided and will be ignored when e.g. forecasting.\n",
      "  ' ignored when e.g. forecasting.', ValueWarning)\n"
     ]
    },
    {
     "name": "stdout",
     "output_type": "stream",
     "text": [
      "                             ARIMA Model Results                              \n",
      "==============================================================================\n",
      "Dep. Variable:                D.close   No. Observations:                 1258\n",
      "Model:                 ARIMA(5, 1, 0)   Log Likelihood               -2354.725\n",
      "Method:                       css-mle   S.D. of innovations              1.573\n",
      "Date:                Fri, 29 Nov 2019   AIC                           4723.450\n",
      "Time:                        14:41:29   BIC                           4759.411\n",
      "Sample:                             1   HQIC                          4736.964\n",
      "                                                                              \n",
      "=================================================================================\n",
      "                    coef    std err          z      P>|z|      [0.025      0.975]\n",
      "---------------------------------------------------------------------------------\n",
      "const             0.0725      0.045      1.620      0.105      -0.015       0.160\n",
      "ar.L1.D.close     0.0158      0.028      0.559      0.576      -0.040       0.071\n",
      "ar.L2.D.close    -0.0321      0.028     -1.128      0.259      -0.088       0.024\n",
      "ar.L3.D.close    -0.0103      0.029     -0.360      0.719      -0.066       0.046\n",
      "ar.L4.D.close     0.0238      0.029      0.828      0.408      -0.033       0.080\n",
      "ar.L5.D.close     0.0122      0.029      0.425      0.671      -0.044       0.069\n",
      "                                    Roots                                    \n",
      "=============================================================================\n",
      "                  Real          Imaginary           Modulus         Frequency\n",
      "-----------------------------------------------------------------------------\n",
      "AR.1            2.2198           -0.0000j            2.2198           -0.0000\n",
      "AR.2            0.4227           -2.0940j            2.1362           -0.2183\n",
      "AR.3            0.4227           +2.0940j            2.1362            0.2183\n",
      "AR.4           -2.5075           -1.3424j            2.8442           -0.4218\n",
      "AR.5           -2.5075           +1.3424j            2.8442            0.4218\n",
      "-----------------------------------------------------------------------------\n"
     ]
    },
    {
     "data": {
      "image/png": "[encoded data removed]",
      "text/plain": [
       "<Figure size 432x288 with 1 Axes>"
      ]
     },
     "metadata": {
      "needs_background": "light"
     },
     "output_type": "display_data"
    },
    {
     "data": {
      "image/png": "[encoded data removed]",
      "text/plain": [
       "<Figure size 432x288 with 1 Axes>"
      ]
     },
     "metadata": {
      "needs_background": "light"
     },
     "output_type": "display_data"
    },
    {
     "name": "stdout",
     "output_type": "stream",
     "text": [
      "                 0\n",
      "count  1258.000000\n",
      "mean      0.000003\n",
      "std       1.573431\n",
      "min      -7.273198\n",
      "25%      -0.730755\n",
      "50%      -0.011729\n",
      "75%       0.817192\n",
      "max       9.711429\n"
     ]
    }
   ],
   "source": [
    "from pandas import read_csv\n",
    "from pandas import datetime\n",
    "from pandas import DataFrame\n",
    "from statsmodels.tsa.arima_model import ARIMA\n",
    "from matplotlib import pyplot\n",
    "\n",
    "# fit model\n",
    "\n",
    "model = ARIMA(asd['close'], order=(5,1,0))\n",
    "model_fit = model.fit(disp=0)\n",
    "print(model_fit.summary())\n",
    "\n",
    "#plot residual errors\n",
    "\n",
    "residuals = DataFrame(model_fit.resid)\n",
    "residuals\n",
    "residuals.plot()\n",
    "pyplot.show()\n",
    "residuals.plot(kind='kde')\n",
    "pyplot.show()\n",
    "print(residuals.describe())"
   ]
  },
  {
   "cell_type": "code",
   "execution_count": 17,
   "metadata": {},
   "outputs": [
    {
     "name": "stdout",
     "output_type": "stream",
     "text": [
      "Test MSE: 49.495\n"
     ]
    },
    {
     "data": {
      "image/png": "[encoded data removed]",
      "text/plain": [
       "<Figure size 432x288 with 1 Axes>"
      ]
     },
     "metadata": {
      "needs_background": "light"
     },
     "output_type": "display_data"
    }
   ],
   "source": [
    "from pandas import read_csv\n",
    "from pandas import datetime\n",
    "from matplotlib import pyplot\n",
    "from sklearn.metrics import mean_squared_error\n",
    "import matplotlib.pyplot as plt\n",
    "\n",
    "from statsmodels.tsa.arima_model import ARIMA\n",
    "\n",
    "X = asd.close.values\n",
    "size = int(len(X) * 0.95)\n",
    "train, test = X[0:size], X[size:] \n",
    "\n",
    "model = ARIMA(train, order=(5,1,0))\n",
    "model_fit = model.fit(disp=0)\n",
    "predictions = model_fit.forecast(steps=len(test))[0]\n",
    "\n",
    "\n",
    "error = mean_squared_error(test, predictions)\n",
    "print('Test MSE: %.3f' % error)\n",
    "\n",
    "# plot\n",
    "plt.title(\"ARIMA Apple\")\n",
    "plt.xlabel('day')\n",
    "plt.ylabel('price')\n",
    "plt.plot(test)\n",
    "plt.plot(predictions, color='red')\n",
    "plt.show()"
   ]
  },
  {
   "cell_type": "code",
   "execution_count": 18,
   "metadata": {},
   "outputs": [
    {
     "data": {
      "text/plain": [
       "array([174.81, 176.24, 175.88, 174.67, 173.97, 171.34, 169.08, 171.1 ,\n",
       "       170.15, 169.98, 173.14, 174.96, 174.97, 174.09, 173.07, 169.48,\n",
       "       171.85, 171.05, 169.8 , 169.64, 169.01, 169.32, 169.37, 172.67,\n",
       "       171.7 , 172.27, 172.22, 173.97, 176.42, 174.54, 174.35, 175.01,\n",
       "       175.01, 170.57, 170.6 , 171.08, 169.23, 172.26, 172.23, 173.03,\n",
       "       175.  , 174.35, 174.33, 174.29, 175.28, 177.09, 176.19, 179.1 ,\n",
       "       179.26, 178.46, 177.  , 177.04, 174.22, 171.11, 171.51, 167.96,\n",
       "       166.97, 167.43, 167.78, 160.5 , 156.49, 163.03, 159.54])"
      ]
     },
     "execution_count": 18,
     "metadata": {},
     "output_type": "execute_result"
    }
   ],
   "source": [
    "from statsmodels.tsa.ar_model import AR\n",
    "from sklearn.metrics import mean_squared_error\n",
    "X = asd.close.values\n",
    "size = int(len(X) * 0.95)\n",
    "train, test = X[0:size], X[size:]\n",
    "test"
   ]
  },
  {
   "cell_type": "code",
   "execution_count": 19,
   "metadata": {},
   "outputs": [
    {
     "data": {
      "text/plain": [
       "array([174.18641976, 173.80466707, 174.01417388, 174.40209053,\n",
       "       174.67556302, 174.54170192, 174.32474273, 174.6826666 ,\n",
       "       175.13676138, 175.28546978, 175.23086778, 175.12702278,\n",
       "       175.46993493, 175.83980444, 176.16942804, 176.24496693,\n",
       "       176.06354946, 176.26104934, 176.57199982, 176.68059677,\n",
       "       176.66471364, 176.71737341, 176.83750033, 176.95327887,\n",
       "       177.0373535 , 177.05229682, 177.10526755, 177.22848897,\n",
       "       177.34346606, 177.41445184, 177.45054371, 177.52035699,\n",
       "       177.61851783, 177.70618188, 177.79158045, 177.84975106,\n",
       "       177.90733947, 177.99522945, 178.08304419, 178.14861973,\n",
       "       178.21014553, 178.28500795, 178.36290348, 178.43947364,\n",
       "       178.50942415, 178.57464103, 178.64655488, 178.72380885,\n",
       "       178.79937957, 178.86850183, 178.93658385, 179.00989725,\n",
       "       179.0836956 , 179.15608903, 179.22762505, 179.2976027 ,\n",
       "       179.36882175, 179.44228685, 179.51465576, 179.58473785,\n",
       "       179.65552369, 179.72760179, 179.79966477])"
      ]
     },
     "execution_count": 19,
     "metadata": {},
     "output_type": "execute_result"
    }
   ],
   "source": [
    "model_ar = AR(train)\n",
    "model_ar_fit = model_ar.fit()\n",
    "predictions = model_ar_fit.predict(start=len(train), end=len(train)+len(test)-1)\n",
    "predictions"
   ]
  },
  {
   "cell_type": "code",
   "execution_count": 20,
   "metadata": {},
   "outputs": [
    {
     "name": "stdout",
     "output_type": "stream",
     "text": [
      "Test MSE: 52.827\n"
     ]
    },
    {
     "data": {
      "image/png": "[encoded data removed]",
      "text/plain": [
       "<Figure size 432x288 with 1 Axes>"
      ]
     },
     "metadata": {
      "needs_background": "light"
     },
     "output_type": "display_data"
    }
   ],
   "source": [
    "error = mean_squared_error(test, predictions)\n",
    "print('Test MSE: %.3f' % error)\n",
    "\n",
    "# plot\n",
    "\n",
    "plt.plot(test)\n",
    "plt.plot(predictions, color='red')\n",
    "plt.show()"
   ]
  },
  {
   "cell_type": "code",
   "execution_count": 21,
   "metadata": {},
   "outputs": [
    {
     "name": "stdout",
     "output_type": "stream",
     "text": [
      "Test MSE: 52.827\n"
     ]
    },
    {
     "data": {
      "image/png": "[encoded data removed]",
      "text/plain": [
       "<Figure size 432x288 with 1 Axes>"
      ]
     },
     "metadata": {
      "needs_background": "light"
     },
     "output_type": "display_data"
    }
   ],
   "source": [
    "from statsmodels.tsa.ar_model import AR\n",
    "from sklearn.metrics import mean_squared_error\n",
    "X = asd.close.values\n",
    "size = int(len(X) * 0.95)\n",
    "train, test = X[0:size], X[size:]\n",
    "\n",
    "model = AR(train)\n",
    "model_fit = model.fit()\n",
    "predictions = model_fit.predict(start=len(train), end=len(train) + len(test)-1)\n",
    "    \n",
    "error = mean_squared_error(test, predictions)\n",
    "print('Test MSE: %.3f' % error)\n",
    "\n",
    "# plot\n",
    "plt.title(\"AR Apple\")\n",
    "plt.xlabel('day')\n",
    "plt.ylabel('price')\n",
    "plt.plot(test)\n",
    "plt.plot(predictions, color='red')\n",
    "plt.show()"
   ]
  },
  {
   "cell_type": "code",
   "execution_count": 22,
   "metadata": {},
   "outputs": [
    {
     "name": "stdout",
     "output_type": "stream",
     "text": [
      "Test MSE: 1080.908\n"
     ]
    },
    {
     "data": {
      "image/png": "[encoded data removed]",
      "text/plain": [
       "<Figure size 432x288 with 1 Axes>"
      ]
     },
     "metadata": {
      "needs_background": "light"
     },
     "output_type": "display_data"
    }
   ],
   "source": [
    "from statsmodels.tsa.arima_model import ARMA\n",
    "\n",
    "X = asd.close.values\n",
    "size = int(len(X) * 0.95)\n",
    "train, test = X[0:size], X[size:]\n",
    "history = [x for x in train]\n",
    "predictions = []\n",
    "\n",
    "\n",
    "for t in range(len(test)):\n",
    "    model =ARMA(history, order=(0, 1))\n",
    "    model_fit = model.fit(disp=False)\n",
    "    output = model_fit.predict(start=len(history), end=len(history)+len(test)-1)\n",
    "    yhat = output[0]\n",
    "    predictions.append(yhat)\n",
    "    obs = test[t]\n",
    "    history.append(obs)\n",
    "    \n",
    "error = mean_squared_error(test, predictions)\n",
    "print('Test MSE: %.3f' % error)\n",
    "\n",
    "# plot\n",
    "plt.title(\"ARMA Apple\")\n",
    "plt.xlabel('day')\n",
    "plt.ylabel('price')\n",
    "plt.plot(test)\n",
    "plt.plot(predictions, color='red')\n",
    "plt.show()"
   ]
  },
  {
   "cell_type": "code",
   "execution_count": null,
   "metadata": {},
   "outputs": [],
   "source": []
  },
  {
   "cell_type": "code",
   "execution_count": 23,
   "metadata": {},
   "outputs": [
    {
     "name": "stdout",
     "output_type": "stream",
     "text": [
      "Test MSE: 2491.303\n"
     ]
    },
    {
     "data": {
      "image/png": "[encoded data removed]",
      "text/plain": [
       "<Figure size 432x288 with 1 Axes>"
      ]
     },
     "metadata": {
      "needs_background": "light"
     },
     "output_type": "display_data"
    }
   ],
   "source": [
    "from statsmodels.tsa.statespace.sarimax import SARIMAX # SARIMA example\n",
    "\n",
    "X = asd.close.values\n",
    "size = int(len(X) * 0.95)\n",
    "train, test = X[0:size], X[size:len(X)]\n",
    "\n",
    "model =SARIMAX(history, order=(1, 1, 1), seasonal_order=(1, 1, 1, 1))\n",
    "model_fit = model.fit(disp=False)\n",
    "predictions = model_fit.predict(start=len(history), end=len(history)+len(test)-1, dynamic=False)\n",
    "    \n",
    "error = mean_squared_error(test, predictions)\n",
    "print('Test MSE: %.3f' % error)\n",
    "\n",
    "# plot\n",
    "plt.title(\"SARIMA Apple\")\n",
    "plt.xlabel('day')\n",
    "plt.ylabel('price')\n",
    "plt.plot(test)\n",
    "plt.plot(predictions, color='red')\n",
    "plt.show()"
   ]
  },
  {
   "cell_type": "code",
   "execution_count": null,
   "metadata": {},
   "outputs": [],
   "source": []
  },
  {
   "cell_type": "code",
   "execution_count": 24,
   "metadata": {},
   "outputs": [
    {
     "name": "stdout",
     "output_type": "stream",
     "text": [
      "Test MSE: 23.513\n"
     ]
    },
    {
     "data": {
      "image/png": "[encoded data removed]",
      "text/plain": [
       "<Figure size 432x288 with 1 Axes>"
      ]
     },
     "metadata": {
      "needs_background": "light"
     },
     "output_type": "display_data"
    }
   ],
   "source": [
    "from statsmodels.tsa.holtwinters import SimpleExpSmoothing\n",
    "\n",
    "X = asd.close.values\n",
    "size = int(len(X) * 0.95)\n",
    "train, test = X[0:size], X[size:len(X)]\n",
    "history = [x for x in train]\n",
    "predictions = []\n",
    "\n",
    "model =SimpleExpSmoothing(history)\n",
    "model_fit = model.fit()\n",
    "predictions = model_fit.predict(start=len(history), end=len(history)+len(test)-1)\n",
    "    \n",
    "error = mean_squared_error(test, predictions)\n",
    "print('Test MSE: %.3f' % error)\n",
    "\n",
    "# plot\n",
    "plt.title(\"SES Apple\")\n",
    "plt.xlabel('day')\n",
    "plt.ylabel('price')\n",
    "plt.plot(test)\n",
    "plt.plot(predictions, color='red')\n",
    "plt.show()"
   ]
  },
  {
   "cell_type": "code",
   "execution_count": null,
   "metadata": {},
   "outputs": [],
   "source": []
  },
  {
   "cell_type": "code",
   "execution_count": 25,
   "metadata": {},
   "outputs": [
    {
     "name": "stdout",
     "output_type": "stream",
     "text": [
      "Test MSE: 23.513\n"
     ]
    },
    {
     "data": {
      "image/png": "[encoded data removed]",
      "text/plain": [
       "<Figure size 432x288 with 1 Axes>"
      ]
     },
     "metadata": {
      "needs_background": "light"
     },
     "output_type": "display_data"
    }
   ],
   "source": [
    "from statsmodels.tsa.holtwinters import ExponentialSmoothing\n",
    "\n",
    "X = asd.close.values\n",
    "size = int(len(X) * 0.95)\n",
    "train, test = X[0:size], X[size:len(X)]\n",
    "history = [x for x in train]\n",
    "predictions = []\n",
    "\n",
    "model =ExponentialSmoothing(history)\n",
    "model_fit = model.fit()\n",
    "predictions = model_fit.predict(start=len(history), end=len(history)+len(test)-1)\n",
    "\n",
    "error = mean_squared_error(test, predictions)\n",
    "print('Test MSE: %.3f' % error)\n",
    "\n",
    "# plot\n",
    "plt.title(\"HWES Apple\")\n",
    "plt.xlabel('day')\n",
    "plt.ylabel('price')\n",
    "plt.plot(test)\n",
    "plt.plot(predictions, color='red')\n",
    "plt.show()"
   ]
  },
  {
   "cell_type": "code",
   "execution_count": null,
   "metadata": {},
   "outputs": [],
   "source": []
  }
 ],
 "metadata": {
  "kernelspec": {
   "display_name": "Python 3",
   "language": "python",
   "name": "python3"
  },
  "language_info": {
   "codemirror_mode": {
    "name": "ipython",
    "version": 3
   },
   "file_extension": ".py",
   "mimetype": "text/x-python",
   "name": "python",
   "nbconvert_exporter": "python",
   "pygments_lexer": "ipython3",
   "version": "3.7.3"
  }
 },
 "nbformat": 4,
 "nbformat_minor": 2
}
